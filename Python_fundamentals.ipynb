{
 "cells": [
  {
   "cell_type": "markdown",
   "id": "65051f18-a9f3-421a-a05f-3068c4214abb",
   "metadata": {},
   "source": [
    "# Assignment 1 - Python_Fundamentals\n",
    "\n"
   ]
  },
  {
   "cell_type": "code",
   "execution_count": 7,
   "id": "5d981122-cda4-498f-a156-2a1db391e32e",
   "metadata": {},
   "outputs": [
    {
     "name": "stdout",
     "output_type": "stream",
     "text": [
      "My name is Silpa \n",
      "My ID is ST001\n",
      "My email id is silpasil381@gmail.com \n"
     ]
    }
   ],
   "source": [
    "# Write Python code that prints your name, student number and email address.  \n",
    "\n",
    "print (\"My name is Silpa \")\n",
    "print (\"My ID is ST001\")\n",
    "print (\"My email id is silpasil381@gmail.com \")"
   ]
  },
  {
   "cell_type": "code",
   "execution_count": 9,
   "id": "acaba9db-e974-4f72-bfd0-f9dc8c20a669",
   "metadata": {},
   "outputs": [
    {
     "name": "stdout",
     "output_type": "stream",
     "text": [
      "Name:\tSilpa\n",
      "Student Number:\tST001\n",
      "Email:\tsilpasil381@gmail.com\n"
     ]
    }
   ],
   "source": [
    "# Write Python code that prints your name, student number and email address using escape sequences.  \n",
    "\n",
    "print(\"Name:\\tSilpa\\nStudent Number:\\tST001\\nEmail:\\tsilpasil381@gmail.com\")\n"
   ]
  },
  {
   "cell_type": "code",
   "execution_count": 13,
   "id": "9fa0a57f-b450-464d-a169-b480800fe404",
   "metadata": {},
   "outputs": [
    {
     "name": "stdout",
     "output_type": "stream",
     "text": [
      "Sum of x and y is :  21\n",
      "Subtraction of x and y is :  7\n",
      "Multiplication of x and y is :  98\n",
      "Division of x and y is :  2.0\n"
     ]
    }
   ],
   "source": [
    "# Write Python code that add, subtract, multiply and divide the two numbers. You can use the two numbers 14 and 7\n",
    "x = 14 \n",
    "y = 7\n",
    "print ('Sum of x and y is : ', x+y )\n",
    "print ('Subtraction of x and y is : ', x-y )\n",
    "print ('Multiplication of x and y is : ', x * y )\n",
    "print ('Division of x and y is : ', x/y )\n"
   ]
  },
  {
   "cell_type": "code",
   "execution_count": 15,
   "id": "d7403b5e-b446-4c46-a448-691ad1b092a2",
   "metadata": {},
   "outputs": [
    {
     "name": "stdout",
     "output_type": "stream",
     "text": [
      "1\n",
      "2\n",
      "3\n",
      "4\n",
      "5\n"
     ]
    }
   ],
   "source": [
    "# Write Python code that displays the numbers from 1 to 5 as steps\n",
    "for i in range(1, 6):\n",
    "    print(i)\n"
   ]
  },
  {
   "cell_type": "code",
   "execution_count": 17,
   "id": "4fe960b1-89bc-44fb-b51c-c2fa7d118ce9",
   "metadata": {},
   "outputs": [
    {
     "name": "stdout",
     "output_type": "stream",
     "text": [
      "\"SDK\" stands for \"Software Development Kit\", whereas\n",
      "\"IDE\" stands for \"Integrated Development Environment\".\n"
     ]
    }
   ],
   "source": [
    "#Write Python code that outputs the following sentence (including the quotation marks and line break) to the screen: \n",
    "print(\"\\\"SDK\\\" stands for \\\"Software Development Kit\\\", whereas\\n\\\"IDE\\\" stands for \\\"Integrated Development Environment\\\".\")\n",
    "\n"
   ]
  },
  {
   "cell_type": "code",
   "execution_count": 21,
   "id": "99bddd34-1814-428e-9517-c257dee4e11c",
   "metadata": {},
   "outputs": [
    {
     "name": "stdout",
     "output_type": "stream",
     "text": [
      "python is an \"awesome\" language.\n",
      "python\n",
      "\t2023\n",
      "I'm from Entri\n",
      "5\n",
      "e\n",
      "Entri\n",
      "2023\n",
      "Entr2023\n",
      "Entri*20"
     ]
    }
   ],
   "source": [
    "#Practice and check the output\n",
    "print(\"python is an \\\"awesome\\\" language.\")\n",
    "print(\"python\\n\\t2023\")\n",
    "print('I\\'m from Entri.\\b')\n",
    "print(\"\\65\")\n",
    "print(\"\\x65\")\n",
    "print(\"Entri\", \"2023\", sep=\"\\n\")\n",
    "print(\"Entri\", \"2023\", sep=\"\\b\")\n",
    "print(\"Entri\", \"2023\", sep=\"*\", end=\"\\b\\b\\b\\b\")\n"
   ]
  },
  {
   "cell_type": "code",
   "execution_count": 23,
   "id": "0de6f8a5-0ea7-4e3e-aefc-5b2490317096",
   "metadata": {},
   "outputs": [
    {
     "name": "stdout",
     "output_type": "stream",
     "text": [
      "Type of num: <class 'int'>\n",
      "Type of textnum: <class 'str'>\n",
      "Type of decimal: <class 'float'>\n",
      "Sum of variables: 178.3\n",
      "Type of sum: <class 'float'>\n"
     ]
    }
   ],
   "source": [
    "#Define the variables below. Print the types of each variable. What is the sum of your variables? (Hint: use a type conversion function.) What datatype is the sum?\n",
    "# Define variables\n",
    "num = 23\n",
    "textnum = \"57\"\n",
    "decimal = 98.3\n",
    "\n",
    "# Print types of each variable\n",
    "print(\"Type of num:\", type(num))          # int\n",
    "print(\"Type of textnum:\", type(textnum))  # str\n",
    "print(\"Type of decimal:\", type(decimal))  # float\n",
    "\n",
    "# Convert textnum to an integer for addition\n",
    "textnum_int = int(textnum)\n",
    "\n",
    "# Calculate the sum\n",
    "total_sum = num + textnum_int + decimal\n",
    "\n",
    "# Print the sum\n",
    "print(\"Sum of variables:\", total_sum)\n",
    "\n",
    "# Print the type of the sum\n",
    "print(\"Type of sum:\", type(total_sum))    # float\n"
   ]
  },
  {
   "cell_type": "code",
   "execution_count": 25,
   "id": "40471eab-f587-4cbb-b3a4-59c246761235",
   "metadata": {},
   "outputs": [
    {
     "name": "stdout",
     "output_type": "stream",
     "text": [
      "This program calculates the total number of minutes in a year.\n",
      "Total number of minutes in a year: 525600\n"
     ]
    }
   ],
   "source": [
    "# calculate the number of minutes in a year using variables for each unit of time. print a statement that describes what your code does also. Create three variables to store no of days in a year, minute in a hour, hours in a day, then calculate the total minutes in a year and print the values\n",
    "# Define variables\n",
    "days_in_year = 365  # Number of days in a year\n",
    "hours_in_day = 24   # Number of hours in a day\n",
    "minutes_in_hour = 60  # Number of minutes in an hour\n",
    "\n",
    "# Calculate the total number of minutes in a year\n",
    "total_minutes_in_year = days_in_year * hours_in_day * minutes_in_hour\n",
    "\n",
    "# Print the result with a descriptive message\n",
    "print(\"This program calculates the total number of minutes in a year.\")\n",
    "print(\"Total number of minutes in a year:\", total_minutes_in_year)\n"
   ]
  },
  {
   "cell_type": "code",
   "execution_count": 27,
   "id": "26faba0c-7a28-48c7-a8d4-15cdc56760c1",
   "metadata": {},
   "outputs": [
    {
     "name": "stdin",
     "output_type": "stream",
     "text": [
      "Please enter your name:  Silpa\n"
     ]
    },
    {
     "name": "stdout",
     "output_type": "stream",
     "text": [
      "Hi Silpa, welcome to Python programming :)\n"
     ]
    }
   ],
   "source": [
    "# Write Python code that asks the user to enter his/her name and then output/prints his/her name with a greeting.\n",
    "\n",
    "\n",
    "# Ask the user to enter their name\n",
    "name = input(\"Please enter your name: \")\n",
    "\n",
    "# Print a greeting message\n",
    "print(\"Hi\", name + \", welcome to Python programming :)\")\n"
   ]
  },
  {
   "cell_type": "code",
   "execution_count": 29,
   "id": "1c37721f-12f1-4389-bf0a-6f207f5df70d",
   "metadata": {},
   "outputs": [
    {
     "name": "stdin",
     "output_type": "stream",
     "text": [
      "Please enter amount in pounds: £ 4.55\n"
     ]
    },
    {
     "name": "stdout",
     "output_type": "stream",
     "text": [
      "£4.55 are $5.78\n"
     ]
    }
   ],
   "source": [
    "\n",
    "#Write a program that asks the user to enter an amount in pounds (£) and the program calculates and converts an amount in dollar ($)\n",
    "\n",
    "\n",
    "# Define the conversion rate\n",
    "conversion_rate = 1.27  # 1 pound = 1.27 dollars (as an example)\n",
    "\n",
    "# Ask the user to enter the amount in pounds\n",
    "pounds = float(input(\"Please enter amount in pounds: £\"))\n",
    "\n",
    "# Convert to dollars\n",
    "dollars = pounds * conversion_rate\n",
    "\n",
    "# Print the result\n",
    "print(f\"£{pounds:.2f} are ${dollars:.2f}\")\n"
   ]
  },
  {
   "cell_type": "code",
   "execution_count": null,
   "id": "fbe6d8ef-e65c-447e-84d5-0c01a961fd41",
   "metadata": {},
   "outputs": [],
   "source": []
  }
 ],
 "metadata": {
  "kernelspec": {
   "display_name": "Python [conda env:base] *",
   "language": "python",
   "name": "conda-base-py"
  },
  "language_info": {
   "codemirror_mode": {
    "name": "ipython",
    "version": 3
   },
   "file_extension": ".py",
   "mimetype": "text/x-python",
   "name": "python",
   "nbconvert_exporter": "python",
   "pygments_lexer": "ipython3",
   "version": "3.12.7"
  }
 },
 "nbformat": 4,
 "nbformat_minor": 5
}
